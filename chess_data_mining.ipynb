{
  "cells": [
    {
      "cell_type": "markdown",
      "metadata": {
        "id": "view-in-github",
        "colab_type": "text"
      },
      "source": [
        "<a href=\"https://colab.research.google.com/github/ShkarupyloMaksym/lichess_datamining/blob/main/chess_data_mining.ipynb\" target=\"_parent\"><img src=\"https://colab.research.google.com/assets/colab-badge.svg\" alt=\"Open In Colab\"/></a>"
      ]
    },
    {
      "cell_type": "markdown",
      "source": [
        "For processing data in several notebooks"
      ],
      "metadata": {
        "id": "-VGEdgaS4e97"
      }
    },
    {
      "cell_type": "markdown",
      "source": [
        "# Imports"
      ],
      "metadata": {
        "id": "RIgcHCSo4lD9"
      }
    },
    {
      "cell_type": "code",
      "source": [
        "!pip install chess"
      ],
      "execution_count": null,
      "outputs": [
        {
          "output_type": "stream",
          "name": "stdout",
          "text": [
            "Collecting chess\n",
            "  Downloading chess-1.10.0-py3-none-any.whl (154 kB)\n",
            "\u001b[?25l     \u001b[90m━━━━━━━━━━━━━━━━━━━━━━━━━━━━━━━━━━━━━━━━\u001b[0m \u001b[32m0.0/154.4 kB\u001b[0m \u001b[31m?\u001b[0m eta \u001b[36m-:--:--\u001b[0m\r\u001b[2K     \u001b[91m━━━━━━━━━━\u001b[0m\u001b[91m╸\u001b[0m\u001b[90m━━━━━━━━━━━━━━━━━━━━━━━━━━━━━\u001b[0m \u001b[32m41.0/154.4 kB\u001b[0m \u001b[31m1.1 MB/s\u001b[0m eta \u001b[36m0:00:01\u001b[0m\r\u001b[2K     \u001b[91m━━━━━━━━━━━━━━━━━━━━━━━━━━━━━━━\u001b[0m\u001b[91m╸\u001b[0m\u001b[90m━━━━━━━━\u001b[0m \u001b[32m122.9/154.4 kB\u001b[0m \u001b[31m1.6 MB/s\u001b[0m eta \u001b[36m0:00:01\u001b[0m\r\u001b[2K     \u001b[90m━━━━━━━━━━━━━━━━━━━━━━━━━━━━━━━━━━━━━━━━\u001b[0m \u001b[32m154.4/154.4 kB\u001b[0m \u001b[31m1.7 MB/s\u001b[0m eta \u001b[36m0:00:00\u001b[0m\n",
            "\u001b[?25hInstalling collected packages: chess\n",
            "Successfully installed chess-1.10.0\n"
          ]
        }
      ],
      "metadata": {
        "datalore": {
          "node_id": "AGWGy7HwNYH1yBdXYhOjjf",
          "type": "CODE",
          "hide_input_from_viewers": true,
          "hide_output_from_viewers": true
        },
        "colab": {
          "base_uri": "https://localhost:8080/"
        },
        "id": "QW3cHZK7HTjO",
        "outputId": "62688d79-6dee-4e03-b899-4b6b940e924e"
      }
    },
    {
      "cell_type": "code",
      "source": [
        "import requests\n",
        "import json\n",
        "import os\n",
        "import gdown\n",
        "import re\n",
        "import pandas as pd\n",
        "import time\n",
        "import numpy as np\n",
        "import shutil"
      ],
      "execution_count": null,
      "outputs": [],
      "metadata": {
        "datalore": {
          "node_id": "NKUKdhEhsSc7HOtr7jd6Fv",
          "type": "CODE",
          "hide_input_from_viewers": true,
          "hide_output_from_viewers": true
        },
        "id": "wipqCQ_KHTjR"
      }
    },
    {
      "cell_type": "markdown",
      "source": [
        "# Drive working"
      ],
      "metadata": {
        "id": "1jST4aaT4onN"
      }
    },
    {
      "cell_type": "code",
      "source": [
        "from google.colab import drive\n",
        "\n",
        "drive.mount('/content/drive')"
      ],
      "metadata": {
        "colab": {
          "base_uri": "https://localhost:8080/"
        },
        "id": "VTgYbhJMhx1h",
        "outputId": "38cf3612-c62e-4189-a951-e1d11844ac3b"
      },
      "execution_count": null,
      "outputs": [
        {
          "output_type": "stream",
          "name": "stdout",
          "text": [
            "Mounted at /content/drive\n"
          ]
        }
      ]
    },
    {
      "cell_type": "code",
      "source": [
        "i = 1\n",
        "checked_file_name = f'games_metadata_profile_{i}.csv'\n",
        "drive_path = '/content/drive/MyDrive/path/to/your/data'"
      ],
      "metadata": {
        "id": "-B8PDYGlh55s"
      },
      "execution_count": null,
      "outputs": []
    },
    {
      "cell_type": "code",
      "source": [
        "def copy_file_from(path=drive_path, name=checked_file_name):\n",
        "  shutil.copyfile(os.path.join(path, name), name)\n",
        "\n",
        "def copy_file_to(path=drive_path, name=checked_file_name):\n",
        "  shutil.copyfile(name, os.path.join(path, name))"
      ],
      "metadata": {
        "id": "egPSyjw3h98U"
      },
      "execution_count": null,
      "outputs": []
    },
    {
      "cell_type": "code",
      "source": [
        "def chiter_function():\n",
        "  print('But just kill me')\n",
        "  copy_file_to()\n",
        "  print(\"I'm like a phoenix\")\n",
        "  raise Exception('Killed')\n",
        "  # restart_runtime()\n"
      ],
      "metadata": {
        "id": "hp33Ez-eiwO-"
      },
      "execution_count": null,
      "outputs": []
    },
    {
      "cell_type": "code",
      "source": [
        "def convert_drive_link(original_link):\n",
        "  if \"https://drive.google.com/uc?id=\" in original_link:\n",
        "    return original_link\n",
        "\n",
        "  pattern = r\"https://drive\\.google\\.com/file/d/([a-zA-Z0-9_-]+)/view\\?usp=drive_link\"\n",
        "\n",
        "  match = re.match(pattern, original_link)\n",
        "\n",
        "  if match:\n",
        "    file_id = match.group(1)\n",
        "    converted_link = f\"https://drive.google.com/uc?id={file_id}\"\n",
        "    return converted_link\n",
        "  else:\n",
        "    print(\"Invalid Google Drive link format.\")\n",
        "    return None\n",
        "\n",
        "def install_from_google_drive(link, name, path=None, force_download = False):\n",
        "  full_path = name\n",
        "  if path is not None:\n",
        "    full_path = os.path.join(path, full_path)\n",
        "  if not force_download:\n",
        "    if os.path.exists(full_path):\n",
        "      print('The data already exists')\n",
        "      return\n",
        "\n",
        "  print('Start downloading')\n",
        "  gdown.download(convert_drive_link(link), full_path, quiet=False)\n",
        "  print('Downloading have ended')\n"
      ],
      "metadata": {
        "id": "0bwyXmIlHV-0"
      },
      "execution_count": null,
      "outputs": []
    },
    {
      "cell_type": "code",
      "source": [
        "copy_file_from()\n",
        "\n",
        "# install_from_google_drive('link_to_your_1_profile_file', 'games_metadata_profile_1.csv', force_download=False)\n",
        "# install_from_google_drive('link_to_your_2_profile_file', 'games_metadata_profile_2.csv', force_download=False)\n",
        "# install_from_google_drive('link_to_your_3_profile_file', 'games_metadata_profile_3.csv', force_download=False)\n",
        "# install_from_google_drive('link_to_your_4_profile_file', 'games_metadata_profile_4.csv', force_download=False)\n",
        "# install_from_google_drive('link_to_your_5_profile_file', 'games_metadata_profile_5.csv', force_download=False)\n",
        "# install_from_google_drive('link_to_your_6_profile_file', 'games_metadata_profile_6.csv', force_download=False)\n",
        "# install_from_google_drive('link_to_your_7_profile_file', 'games_metadata_profile_7.csv', force_download=False)\n",
        "# install_from_google_drive('link_to_your_8_profile_file', 'games_metadata_profile_8.csv', force_download=False)\n",
        "# install_from_google_drive('link_to_your_9_profile_file', 'games_metadata_profile_9.csv', force_download=False)\n",
        "# install_from_google_drive('link_to_your_10_profile_file', 'games_metadata_profile_10.csv', force_download=False)\n",
        "# install_from_google_drive('link_to_your_11_profile_file', 'games_metadata_profile_11.csv', force_download=False)\n",
        "# install_from_google_drive('link_to_your_12_profile_file', 'games_metadata_profile_12.csv', force_download=False)"
      ],
      "metadata": {
        "id": "LAgePejMLGCr"
      },
      "execution_count": null,
      "outputs": []
    },
    {
      "cell_type": "markdown",
      "source": [
        "# API functions"
      ],
      "metadata": {
        "id": "cjLDfoze43bC"
      }
    },
    {
      "cell_type": "code",
      "source": [
        "def get_profile(username, fields):\n",
        "    profile = {}\n",
        "    url = f'https://lichess.org/api/user/{username}'\n",
        "    response = requests.get(url, headers=headers)\n",
        "    if response.status_code == 200:\n",
        "        account_info = response.json()\n",
        "        for field in fields:\n",
        "            try:\n",
        "                keys = field.split('/')\n",
        "                value = account_info\n",
        "                for key in keys:\n",
        "                    if key in value:\n",
        "                        value = value.get(key, {})\n",
        "                    else:\n",
        "                        value = None\n",
        "                        break\n",
        "                profile[field] = value\n",
        "            except Exception as e:\n",
        "                print(f\"Error processing {field} for {username}: {e}\")\n",
        "                profile[field] = None\n",
        "    else:\n",
        "      print(response.text)\n",
        "      print('I want to sleep')\n",
        "\n",
        "      chiter_function()\n",
        "\n",
        "      time.sleep(60)\n",
        "      print('I get sleep enough')\n",
        "      profile = get_profile(username, fields)\n",
        "    return profile"
      ],
      "execution_count": null,
      "outputs": [],
      "metadata": {
        "datalore": {
          "node_id": "Q8MsDl9FFI6cEq85voh6U1",
          "type": "CODE",
          "hide_input_from_viewers": true,
          "hide_output_from_viewers": true
        },
        "id": "OWQzoYHAHTjV"
      }
    },
    {
      "cell_type": "code",
      "source": [
        "def update_profiles(df, fields, name_for_saving):\n",
        "  now = time.time()\n",
        "  columns_names = ['White', 'Black']\n",
        "  for column in columns_names:\n",
        "      for field in fields:\n",
        "          if f\"{column}_{field.replace('/', '_')}\" not in df.columns:\n",
        "            df[f\"{column}_{field.replace('/', '_')}\"] = None\n",
        "\n",
        "  started = True\n",
        "\n",
        "  for index, row in df.iterrows():\n",
        "      if not (pd.isnull(row['White_createdAt']) and pd.isnull(row['Black_createdAt'])):\n",
        "        started = True\n",
        "        continue\n",
        "      if started:\n",
        "        print(f'Started from {index}')\n",
        "        started = False\n",
        "      if index % 100 == 0 and index != 0:\n",
        "        now_new = time.time()\n",
        "        taken_time = round(now_new - now)\n",
        "        taken_time_min, taken_time_sec = taken_time // 60, taken_time % 60\n",
        "        taken_time_sec = str(taken_time_sec).zfill(2)\n",
        "        print(f'{index} was completed, taken time = {taken_time_min}:{taken_time_sec}')\n",
        "        df.to_csv(name_for_saving, index=False)\n",
        "\n",
        "      for column in columns_names:\n",
        "        username = row[column]\n",
        "        profile = get_profile(username, fields)\n",
        "        for field, value in profile.items():\n",
        "            df.at[index, f\"{column}_{field.replace('/', '_')}\"] = value"
      ],
      "execution_count": null,
      "outputs": [],
      "metadata": {
        "datalore": {
          "node_id": "07pgeSL9STq0bWT7gT0DOy",
          "type": "CODE",
          "hide_input_from_viewers": true,
          "hide_output_from_viewers": true
        },
        "id": "bCYJl1K6HTjV"
      }
    },
    {
      "cell_type": "code",
      "source": [
        "token = 'YOUR_LICHESS_TOKEN'\n",
        "\n",
        "headers = {\n",
        "    'Authorization': token\n",
        "}\n",
        "\n",
        "fields=[\"profile/flag\", \"createdAt\", \"playTime/total\", \"count/all\", \"tosViolation\", \"title\"]\n",
        "\n",
        "i=1\n",
        "\n",
        "games_metadata = pd.read_csv(f'games_metadata_profile_{i}.csv')\n",
        "update_profiles(games_metadata, fields, f'games_metadata_profile_{i}.csv')\n",
        "# games_metadata.to_csv(f'games_metadata_profile_{i}.csv', index=False)\n",
        "# print(f\"{i} file was updated\")"
      ],
      "execution_count": null,
      "outputs": [],
      "metadata": {
        "datalore": {
          "node_id": "JCLuqwRVMfdCjNjnpkXTuq",
          "type": "CODE",
          "hide_input_from_viewers": true,
          "hide_output_from_viewers": true
        },
        "id": "VBKD9bVyHTjW"
      }
    },
    {
      "cell_type": "code",
      "source": [],
      "metadata": {
        "id": "GaeuusyKltA9"
      },
      "execution_count": null,
      "outputs": []
    }
  ],
  "metadata": {
    "kernelspec": {
      "display_name": "Python",
      "language": "python",
      "name": "python"
    },
    "datalore": {
      "computation_mode": "JUPYTER",
      "package_manager": "pip",
      "base_environment": "default",
      "packages": [],
      "report_row_ids": [],
      "version": 3
    },
    "colab": {
      "provenance": [],
      "include_colab_link": true
    }
  },
  "nbformat": 4,
  "nbformat_minor": 0
}