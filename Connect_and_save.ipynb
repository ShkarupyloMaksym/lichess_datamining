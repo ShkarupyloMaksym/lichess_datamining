{
  "nbformat": 4,
  "nbformat_minor": 0,
  "metadata": {
    "colab": {
      "provenance": [],
      "authorship_tag": "ABX9TyPUsrRUh0gohX92f4l9I6o7",
      "include_colab_link": true
    },
    "kernelspec": {
      "name": "python3",
      "display_name": "Python 3"
    },
    "language_info": {
      "name": "python"
    }
  },
  "cells": [
    {
      "cell_type": "markdown",
      "metadata": {
        "id": "view-in-github",
        "colab_type": "text"
      },
      "source": [
        "<a href=\"https://colab.research.google.com/github/ShkarupyloMaksym/lichess_datamining/blob/main/Connect_and_save.ipynb\" target=\"_parent\"><img src=\"https://colab.research.google.com/assets/colab-badge.svg\" alt=\"Open In Colab\"/></a>"
      ]
    },
    {
      "cell_type": "code",
      "source": [
        "import requests\n",
        "import json\n",
        "import os\n",
        "import gdown\n",
        "import re\n",
        "import pandas as pd\n",
        "import time\n",
        "import numpy as np\n",
        "import shutil\n",
        "import zipfile\n"
      ],
      "execution_count": null,
      "outputs": [],
      "metadata": {
        "datalore": {
          "node_id": "NKUKdhEhsSc7HOtr7jd6Fv",
          "type": "CODE",
          "hide_input_from_viewers": true,
          "hide_output_from_viewers": true
        },
        "id": "wipqCQ_KHTjR"
      }
    },
    {
      "cell_type": "code",
      "source": [
        "from google.colab import drive\n",
        "\n",
        "drive.mount('/content/drive')"
      ],
      "metadata": {
        "colab": {
          "base_uri": "https://localhost:8080/"
        },
        "id": "VTgYbhJMhx1h",
        "outputId": "07299e59-125a-42f4-a0b7-8dc414466733"
      },
      "execution_count": null,
      "outputs": [
        {
          "output_type": "stream",
          "name": "stdout",
          "text": [
            "Mounted at /content/drive\n"
          ]
        }
      ]
    },
    {
      "cell_type": "code",
      "source": [
        "checked_file_name = f'games_metadata_profile_.zip'\n",
        "drive_path = '/content/drive/MyDrive/your/data/path'"
      ],
      "metadata": {
        "id": "-B8PDYGlh55s"
      },
      "execution_count": null,
      "outputs": []
    },
    {
      "cell_type": "code",
      "source": [
        "\n",
        "def copy_file_from(path=drive_path, name=checked_file_name):\n",
        "  shutil.copyfile(os.path.join(path, name), name)\n",
        "\n",
        "def copy_file_to(path=drive_path, name=checked_file_name):\n",
        "  shutil.copyfile(name, os.path.join(path, name))"
      ],
      "metadata": {
        "id": "egPSyjw3h98U"
      },
      "execution_count": null,
      "outputs": []
    },
    {
      "cell_type": "code",
      "source": [
        "copy_file_from()"
      ],
      "metadata": {
        "id": "KEudHpKcvzc2"
      },
      "execution_count": null,
      "outputs": []
    },
    {
      "cell_type": "code",
      "source": [
        "print('Start extracting data')\n",
        "with zipfile.ZipFile(checked_file_name, 'r') as zipp:\n",
        "    zipp.extractall()\n",
        "print('Data have just extracted')"
      ],
      "metadata": {
        "colab": {
          "base_uri": "https://localhost:8080/"
        },
        "id": "BEJAzcNxv05o",
        "outputId": "db758d55-c572-4836-ed91-db64553e06b3"
      },
      "execution_count": null,
      "outputs": [
        {
          "output_type": "stream",
          "name": "stdout",
          "text": [
            "Start extracting data\n",
            "Data have just extracted\n"
          ]
        }
      ]
    },
    {
      "cell_type": "code",
      "source": [
        "data = None\n",
        "for i in range(1, 13):\n",
        "  file_names = f'games_metadata_profile_{i}.csv'\n",
        "  file_dataframe = pd.read_csv(file_names)\n",
        "  print(f'This file is {file_names} its shape = {file_dataframe.shape}')\n",
        "  if data is None:\n",
        "    data = file_dataframe.copy()\n",
        "  else:\n",
        "    data = pd.concat([data, file_dataframe])\n",
        "  print(f'New data shape is {data.shape}')\n",
        "\n",
        "data.to_csv('games_metadata_profile.csv')"
      ],
      "metadata": {
        "colab": {
          "base_uri": "https://localhost:8080/"
        },
        "id": "a6_DVrNAwLdr",
        "outputId": "1616cefd-1cfc-4bf7-c65a-98f53c6c7dce"
      },
      "execution_count": null,
      "outputs": [
        {
          "output_type": "stream",
          "name": "stdout",
          "text": [
            "This file is games_metadata_profile_1.csv its shape = (6807, 29)\n",
            "New data shape is (6807, 29)\n",
            "This file is games_metadata_profile_2.csv its shape = (6497, 29)\n",
            "New data shape is (13304, 29)\n",
            "This file is games_metadata_profile_3.csv its shape = (6733, 29)\n",
            "New data shape is (20037, 29)\n",
            "This file is games_metadata_profile_4.csv its shape = (6782, 29)\n",
            "New data shape is (26819, 29)\n",
            "This file is games_metadata_profile_5.csv its shape = (6616, 29)\n",
            "New data shape is (33435, 29)\n",
            "This file is games_metadata_profile_6.csv its shape = (6428, 29)\n",
            "New data shape is (39863, 29)\n",
            "This file is games_metadata_profile_7.csv its shape = (6641, 29)\n",
            "New data shape is (46504, 29)\n",
            "This file is games_metadata_profile_8.csv its shape = (6600, 29)\n",
            "New data shape is (53104, 29)\n",
            "This file is games_metadata_profile_9.csv its shape = (6406, 29)\n",
            "New data shape is (59510, 29)\n",
            "This file is games_metadata_profile_10.csv its shape = (6337, 29)\n",
            "New data shape is (65847, 29)\n",
            "This file is games_metadata_profile_11.csv its shape = (6247, 29)\n",
            "New data shape is (72094, 29)\n",
            "This file is games_metadata_profile_12.csv its shape = (4463, 29)\n",
            "New data shape is (76557, 29)\n"
          ]
        }
      ]
    },
    {
      "cell_type": "code",
      "source": [
        "for i in ['Black', 'White']:\n",
        "  data[f'{i}_tosViolation'].fillna(False, inplace=True)"
      ],
      "metadata": {
        "id": "9sZLDHH_p1qw"
      },
      "execution_count": null,
      "outputs": []
    },
    {
      "cell_type": "code",
      "source": [
        "data.info()"
      ],
      "metadata": {
        "colab": {
          "base_uri": "https://localhost:8080/"
        },
        "id": "eK4IaOPnqxs0",
        "outputId": "23d7ad8e-795a-4952-874f-e55dd098ad1b"
      },
      "execution_count": null,
      "outputs": [
        {
          "output_type": "stream",
          "name": "stdout",
          "text": [
            "<class 'pandas.core.frame.DataFrame'>\n",
            "Int64Index: 76557 entries, 0 to 4462\n",
            "Data columns (total 29 columns):\n",
            " #   Column                Non-Null Count  Dtype  \n",
            "---  ------                --------------  -----  \n",
            " 0   GameID                76557 non-null  int64  \n",
            " 1   Event                 76557 non-null  object \n",
            " 2   Site                  76557 non-null  object \n",
            " 3   Date                  76557 non-null  object \n",
            " 4   Time                  76557 non-null  object \n",
            " 5   White                 76557 non-null  object \n",
            " 6   Black                 76557 non-null  object \n",
            " 7   Result                76557 non-null  object \n",
            " 8   WhiteElo              76557 non-null  int64  \n",
            " 9   BlackElo              76557 non-null  int64  \n",
            " 10  WhiteRatingDiff       76454 non-null  float64\n",
            " 11  BlackRatingDiff       76454 non-null  float64\n",
            " 12  ECO                   76557 non-null  object \n",
            " 13  Opening               76557 non-null  object \n",
            " 14  TimeControl           76557 non-null  object \n",
            " 15  TotalMoves            76557 non-null  int64  \n",
            " 16  Moves                 76557 non-null  object \n",
            " 17  White_profile_flag    22919 non-null  object \n",
            " 18  White_createdAt       64158 non-null  float64\n",
            " 19  White_playTime_total  64043 non-null  float64\n",
            " 20  White_count_all       64158 non-null  float64\n",
            " 21  White_tosViolation    76557 non-null  bool   \n",
            " 22  White_title           473 non-null    object \n",
            " 23  Black_profile_flag    22640 non-null  object \n",
            " 24  Black_createdAt       64000 non-null  float64\n",
            " 25  Black_playTime_total  63877 non-null  float64\n",
            " 26  Black_count_all       64000 non-null  float64\n",
            " 27  Black_tosViolation    76557 non-null  bool   \n",
            " 28  Black_title           459 non-null    object \n",
            "dtypes: bool(2), float64(8), int64(4), object(15)\n",
            "memory usage: 16.5+ MB\n"
          ]
        }
      ]
    },
    {
      "cell_type": "code",
      "source": [
        "for i in ['Black', 'White']:\n",
        "  data[f'{i}_is_deleted'] = pd.isnull(data[f'{i}_createdAt'])"
      ],
      "metadata": {
        "id": "Rhy2QNc4q01p"
      },
      "execution_count": null,
      "outputs": []
    },
    {
      "cell_type": "code",
      "source": [
        "data.info()"
      ],
      "metadata": {
        "colab": {
          "base_uri": "https://localhost:8080/"
        },
        "id": "0hqKt9Zuq_HU",
        "outputId": "c3f56631-8c1c-4a6c-d26c-2468edecff5d"
      },
      "execution_count": null,
      "outputs": [
        {
          "output_type": "stream",
          "name": "stdout",
          "text": [
            "<class 'pandas.core.frame.DataFrame'>\n",
            "Int64Index: 76557 entries, 0 to 4462\n",
            "Data columns (total 31 columns):\n",
            " #   Column                Non-Null Count  Dtype  \n",
            "---  ------                --------------  -----  \n",
            " 0   GameID                76557 non-null  int64  \n",
            " 1   Event                 76557 non-null  object \n",
            " 2   Site                  76557 non-null  object \n",
            " 3   Date                  76557 non-null  object \n",
            " 4   Time                  76557 non-null  object \n",
            " 5   White                 76557 non-null  object \n",
            " 6   Black                 76557 non-null  object \n",
            " 7   Result                76557 non-null  object \n",
            " 8   WhiteElo              76557 non-null  int64  \n",
            " 9   BlackElo              76557 non-null  int64  \n",
            " 10  WhiteRatingDiff       76454 non-null  float64\n",
            " 11  BlackRatingDiff       76454 non-null  float64\n",
            " 12  ECO                   76557 non-null  object \n",
            " 13  Opening               76557 non-null  object \n",
            " 14  TimeControl           76557 non-null  object \n",
            " 15  TotalMoves            76557 non-null  int64  \n",
            " 16  Moves                 76557 non-null  object \n",
            " 17  White_profile_flag    22919 non-null  object \n",
            " 18  White_createdAt       64158 non-null  float64\n",
            " 19  White_playTime_total  64043 non-null  float64\n",
            " 20  White_count_all       64158 non-null  float64\n",
            " 21  White_tosViolation    76557 non-null  bool   \n",
            " 22  White_title           473 non-null    object \n",
            " 23  Black_profile_flag    22640 non-null  object \n",
            " 24  Black_createdAt       64000 non-null  float64\n",
            " 25  Black_playTime_total  63877 non-null  float64\n",
            " 26  Black_count_all       64000 non-null  float64\n",
            " 27  Black_tosViolation    76557 non-null  bool   \n",
            " 28  Black_title           459 non-null    object \n",
            " 29  Black_is_deleted      76557 non-null  bool   \n",
            " 30  White_is_deleted      76557 non-null  bool   \n",
            "dtypes: bool(4), float64(8), int64(4), object(15)\n",
            "memory usage: 16.6+ MB\n"
          ]
        }
      ]
    },
    {
      "cell_type": "code",
      "source": [
        "data['White_is_deleted'].value_counts()"
      ],
      "metadata": {
        "colab": {
          "base_uri": "https://localhost:8080/"
        },
        "id": "37yRbLmUr3ZT",
        "outputId": "cbc9e580-96e6-4f00-c603-addfd15faa1d"
      },
      "execution_count": null,
      "outputs": [
        {
          "output_type": "execute_result",
          "data": {
            "text/plain": [
              "False    64158\n",
              "True     12399\n",
              "Name: White_is_deleted, dtype: int64"
            ]
          },
          "metadata": {},
          "execution_count": 20
        }
      ]
    },
    {
      "cell_type": "code",
      "source": [
        "\"'White', 'WhiteElo', 'WhiteRatingDiff', 'White_is_deleted', 'White_tosViolation',  'White_profile_flag', 'White_createdAt', 'White_playTime_total', 'White_count_all', 'White_title', \".replace('White', 'Black')"
      ],
      "metadata": {
        "colab": {
          "base_uri": "https://localhost:8080/",
          "height": 54
        },
        "id": "sqcxvfiQtR_K",
        "outputId": "2e24f19b-626c-4b34-a1ce-6a12caabf81c"
      },
      "execution_count": null,
      "outputs": [
        {
          "output_type": "execute_result",
          "data": {
            "text/plain": [
              "\"'Black', 'BlackElo', 'BlackRatingDiff', 'Black_is_deleted', 'Black_tosViolation',  'Black_profile_flag', 'Black_createdAt', 'Black_playTime_total', 'Black_count_all', 'Black_title', \""
            ],
            "application/vnd.google.colaboratory.intrinsic+json": {
              "type": "string"
            }
          },
          "metadata": {},
          "execution_count": 21
        }
      ]
    },
    {
      "cell_type": "code",
      "source": [
        "order = ['GameID', 'Event', 'Site', 'Date', 'Time',\n",
        "         'White', 'WhiteElo', 'WhiteRatingDiff', 'White_is_deleted', 'White_tosViolation',  'White_profile_flag', 'White_createdAt', 'White_playTime_total', 'White_count_all', 'White_title',\n",
        "         'Black', 'BlackElo', 'BlackRatingDiff', 'Black_is_deleted', 'Black_tosViolation',  'Black_profile_flag', 'Black_createdAt', 'Black_playTime_total', 'Black_count_all', 'Black_title',\n",
        "         'Moves', 'TotalMoves', 'ECO', 'Opening', 'TimeControl', 'Result']"
      ],
      "metadata": {
        "id": "gAo7g9lPsE2h"
      },
      "execution_count": null,
      "outputs": []
    },
    {
      "cell_type": "code",
      "source": [
        "data = data[order]\n",
        "data.info()"
      ],
      "metadata": {
        "colab": {
          "base_uri": "https://localhost:8080/"
        },
        "id": "XoJLbGL9uHXN",
        "outputId": "b8999748-a83f-458e-8d76-002175a2e60c"
      },
      "execution_count": null,
      "outputs": [
        {
          "output_type": "stream",
          "name": "stdout",
          "text": [
            "<class 'pandas.core.frame.DataFrame'>\n",
            "Int64Index: 76557 entries, 0 to 4462\n",
            "Data columns (total 31 columns):\n",
            " #   Column                Non-Null Count  Dtype  \n",
            "---  ------                --------------  -----  \n",
            " 0   GameID                76557 non-null  int64  \n",
            " 1   Event                 76557 non-null  object \n",
            " 2   Site                  76557 non-null  object \n",
            " 3   Date                  76557 non-null  object \n",
            " 4   Time                  76557 non-null  object \n",
            " 5   White                 76557 non-null  object \n",
            " 6   WhiteElo              76557 non-null  int64  \n",
            " 7   WhiteRatingDiff       76454 non-null  float64\n",
            " 8   White_is_deleted      76557 non-null  bool   \n",
            " 9   White_tosViolation    76557 non-null  bool   \n",
            " 10  White_profile_flag    22919 non-null  object \n",
            " 11  White_createdAt       64158 non-null  float64\n",
            " 12  White_playTime_total  64043 non-null  float64\n",
            " 13  White_count_all       64158 non-null  float64\n",
            " 14  White_title           473 non-null    object \n",
            " 15  Black                 76557 non-null  object \n",
            " 16  BlackElo              76557 non-null  int64  \n",
            " 17  BlackRatingDiff       76454 non-null  float64\n",
            " 18  Black_is_deleted      76557 non-null  bool   \n",
            " 19  Black_tosViolation    76557 non-null  bool   \n",
            " 20  Black_profile_flag    22640 non-null  object \n",
            " 21  Black_createdAt       64000 non-null  float64\n",
            " 22  Black_playTime_total  63877 non-null  float64\n",
            " 23  Black_count_all       64000 non-null  float64\n",
            " 24  Black_title           459 non-null    object \n",
            " 25  Moves                 76557 non-null  object \n",
            " 26  TotalMoves            76557 non-null  int64  \n",
            " 27  ECO                   76557 non-null  object \n",
            " 28  Opening               76557 non-null  object \n",
            " 29  TimeControl           76557 non-null  object \n",
            " 30  Result                76557 non-null  object \n",
            "dtypes: bool(4), float64(8), int64(4), object(15)\n",
            "memory usage: 16.6+ MB\n"
          ]
        }
      ]
    },
    {
      "cell_type": "code",
      "source": [
        "data.to_csv('games_metadata_profile.csv')\n",
        "\n",
        "zip_filename = 'games_metadata_with_profiles.zip'\n",
        "with zipfile.ZipFile(zip_filename, 'w') as zipp:\n",
        "    zipp.write('games_metadata_profile.csv')"
      ],
      "metadata": {
        "id": "ZKRGE_9Ey7BA"
      },
      "execution_count": null,
      "outputs": []
    },
    {
      "cell_type": "code",
      "source": [],
      "metadata": {
        "id": "oP6IL4LvuNt7"
      },
      "execution_count": null,
      "outputs": []
    }
  ]
}